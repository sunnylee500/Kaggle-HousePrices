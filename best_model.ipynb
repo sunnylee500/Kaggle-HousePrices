{
 "cells": [
  {
   "cell_type": "code",
   "execution_count": 48,
   "metadata": {},
   "outputs": [],
   "source": [
    "import numpy as np\n",
    "import pandas as pd\n",
    "from matplotlib import pyplot as plt\n",
    "from sklearn import linear_model\n",
    "from sklearn.model_selection import train_test_split\n",
    "import houseprice_functions as hpf\n",
    "from sklearn.linear_model import ElasticNetCV, ElasticNet\n",
    "from sklearn import metrics"
   ]
  },
  {
   "cell_type": "markdown",
   "metadata": {},
   "source": [
    "# Outlier imputation"
   ]
  },
  {
   "cell_type": "code",
   "execution_count": 64,
   "metadata": {
    "scrolled": false
   },
   "outputs": [
    {
     "name": "stdout",
     "output_type": "stream",
     "text": [
      "GarageArea : [581, 1190, 1298]\n",
      "TotalBsmtSF : [332, 440, 496, 523, 1298]\n",
      "GrLivArea : [523, 691, 1169, 1182, 1298]\n",
      "LotArea : [249, 313, 335, 384, 451, 457, 706, 769, 1298, 1396]\n",
      "EnclosedPorch : [3, 197, 328, 358, 496, 630, 747, 813, 939, 1152, 1197, 1326, 1360]\n",
      "Total_PorchDeckSF : [53, 961, 1328, 1423, 1459]\n"
     ]
    },
    {
     "name": "stderr",
     "output_type": "stream",
     "text": [
      "C:\\Users\\Micha\\Downloads\\Anaconda\\lib\\site-packages\\pandas\\core\\indexing.py:205: SettingWithCopyWarning: \n",
      "A value is trying to be set on a copy of a slice from a DataFrame\n",
      "\n",
      "See the caveats in the documentation: http://pandas.pydata.org/pandas-docs/stable/user_guide/indexing.html#returning-a-view-versus-a-copy\n",
      "  self._setitem_with_indexer(indexer, value)\n"
     ]
    }
   ],
   "source": [
    "cleaned_hp = pd.read_csv('data/cleaned_houseprice.csv')\n",
    "HousePrices = pd.read_csv('data/train.csv')\n",
    "\n",
    "train_outliers = hpf.outlier_selecter(cleaned_hp,cleaned_hp,num_sd = 4,min_unique = 20, drop_zeros = True)\n",
    "\n",
    "for col, idx in train_outliers.items():\n",
    "    print(col,':',idx)\n",
    "    hpf.outlier_imputation(cleaned_hp, cleaned_hp,idx, col = col, method = \"random\", decimals = 2)\n",
    "    \n",
    "y = HousePrices[[\"Id\",'SalePrice']]\n",
    "x_y = cleaned_hp.merge(y,how = \"inner\",on = \"Id\")\n",
    "y = np.log(x_y['SalePrice'])\n",
    "X = x_y.drop([\"Id\",\"SalePrice\",\"Ext_ImStucc\", \"Ext_Stone\",\"House_2.5Fin\"],axis = 1)"
   ]
  },
  {
   "cell_type": "markdown",
   "metadata": {},
   "source": [
    "# standardization "
   ]
  },
  {
   "cell_type": "code",
   "execution_count": 50,
   "metadata": {
    "scrolled": true
   },
   "outputs": [
    {
     "name": "stdout",
     "output_type": "stream",
     "text": [
      "GrLivArea\n",
      "0.7998678263533677\n",
      "-0.13065101569267792\n",
      "LotArea\n",
      "2.5052611623481176\n",
      "-0.9214384390937395\n",
      "LotShape\n",
      "1.309985656555955\n",
      "0.7831035648282987\n",
      "LandSlope\n",
      "4.813682424489448\n",
      "4.297167061742489\n",
      "EnclosedPorch\n",
      "2.8508299091824068\n",
      "2.216943569642373\n",
      "Total_PorchDeckSF\n",
      "1.008970579117751\n",
      "-0.9070199627997609\n"
     ]
    }
   ],
   "source": [
    "all_cols = X.columns\n",
    "lis_ = []\n",
    "for col in all_cols:\n",
    "    if len(X[col].unique()) == 2:\n",
    "        continue\n",
    "    else: \n",
    "        lis_.append(col)\n",
    "###############\n",
    "#getting a list of all columns that are greater than 0.75 skew\n",
    "pos_skewed_feats =[]\n",
    "for col in lis_:\n",
    "    if (X[col].skew() > 0.75):\n",
    "        pos_skewed_feats.append(col)\n",
    "################\n",
    "#creating a new dataframe, replacing the relevant columns with the transformed \n",
    "X2 = X.copy()\n",
    "for col in all_cols:\n",
    "    if col in pos_skewed_feats:\n",
    "        X2[col] = np.log1p(X2[col])\n",
    "#################\n",
    "#cheking for if it improved the skew\n",
    "for col in pos_skewed_feats:\n",
    "    print(col)\n",
    "    print(X[col].skew())\n",
    "    print(X2[col].skew())"
   ]
  },
  {
   "cell_type": "markdown",
   "metadata": {},
   "source": [
    "# Train test split"
   ]
  },
  {
   "cell_type": "code",
   "execution_count": 51,
   "metadata": {},
   "outputs": [],
   "source": [
    "X2_train, X2_test, y2_train, y2_test = train_test_split(X2, y, test_size=0.3, random_state=42)"
   ]
  },
  {
   "cell_type": "code",
   "execution_count": 52,
   "metadata": {},
   "outputs": [
    {
     "name": "stdout",
     "output_type": "stream",
     "text": [
      "Model Alpha: 0.0001794392259340051\n",
      "Model Ratio: 0.7\n",
      "Model n iters: 46\n",
      "R square train: 0.8971446685925352\n",
      "R square test: 0.9205324428929217\n",
      "MRSE train: 0.11647167806680636\n",
      "MRSE test: 0.11610928603967066\n"
     ]
    }
   ],
   "source": [
    "en_model = ElasticNetCV(l1_ratio=[.1, .5, .7, .9, .95, .99, 1], eps=1e-3, n_alphas=100, fit_intercept=True, \n",
    "                        normalize=True, precompute='auto', max_iter=2000, tol=0.0001, cv=6, \n",
    "                        copy_X=True, verbose=0, n_jobs=-1, positive=False, random_state=1)\n",
    "en_model.fit(X2_train, y2_train)\n",
    "print(\"Model Alpha:\",en_model.alpha_)\n",
    "print(\"Model Ratio:\",en_model.l1_ratio_)\n",
    "print(\"Model n iters:\", en_model.n_iter_)\n",
    "y_train_pred = en_model.predict(X2_train)\n",
    "y_pred = en_model.predict(X2_test)\n",
    "print(\"R square train:\",metrics.r2_score(y_train_pred, y2_train))\n",
    "print(\"R square test:\",metrics.r2_score(y2_test, y_pred))\n",
    "print(\"MRSE train:\",np.sqrt(metrics.mean_squared_error(y_train_pred, y2_train)))\n",
    "print(\"MRSE test:\",np.sqrt(metrics.mean_squared_error(y_pred, y2_test)))"
   ]
  },
  {
   "cell_type": "markdown",
   "metadata": {},
   "source": [
    "## Full Model"
   ]
  },
  {
   "cell_type": "code",
   "execution_count": 53,
   "metadata": {},
   "outputs": [
    {
     "name": "stdout",
     "output_type": "stream",
     "text": [
      "Full Model RMSE: 0.1140172867438289\n"
     ]
    }
   ],
   "source": [
    "full_model = en_model.fit(X2, y)\n",
    "y_pred = full_model.predict(X2)\n",
    "print(\"Full Model RMSE:\",np.sqrt(metrics.mean_squared_error(y_pred, y)))\n",
    "#MRSE train: 0.11647167806680636\n",
    "#MRSE test: 0.11610928603967066\n",
    "#Full Model RMSE: 0.1140172867438289"
   ]
  },
  {
   "cell_type": "code",
   "execution_count": 54,
   "metadata": {
    "scrolled": true
   },
   "outputs": [
    {
     "name": "stdout",
     "output_type": "stream",
     "text": [
      "Missing from train:\n",
      "Id\n"
     ]
    }
   ],
   "source": [
    "cleaned_hp_test = pd.read_csv('data/cleaned_houseprice_test.csv')\n",
    "train = list(X.columns)\n",
    "test = list(cleaned_hp_test.columns)\n",
    "for i in train:\n",
    "    if i not in test:\n",
    "        print(\"Missing from test:\")\n",
    "        print(i)\n",
    "for i in test:\n",
    "    if i not in train:\n",
    "        print(\"Missing from train:\")\n",
    "        print(i)"
   ]
  },
  {
   "cell_type": "markdown",
   "metadata": {},
   "source": [
    "## TEST CSV CREATION"
   ]
  },
  {
   "cell_type": "code",
   "execution_count": 55,
   "metadata": {},
   "outputs": [
    {
     "data": {
      "text/plain": [
       "(1459, 110)"
      ]
     },
     "execution_count": 55,
     "metadata": {},
     "output_type": "execute_result"
    }
   ],
   "source": [
    "cleaned_hp_test = pd.read_csv('data/cleaned_houseprice_test.csv')\n",
    "cleaned_hp_test.shape"
   ]
  },
  {
   "cell_type": "code",
   "execution_count": 56,
   "metadata": {
    "scrolled": true
   },
   "outputs": [
    {
     "data": {
      "text/plain": [
       "0"
      ]
     },
     "execution_count": 56,
     "metadata": {},
     "output_type": "execute_result"
    }
   ],
   "source": [
    "sum(cleaned_hp_test.isna().sum().sort_values(ascending = False))"
   ]
  },
  {
   "cell_type": "markdown",
   "metadata": {},
   "source": [
    "# Test outliers"
   ]
  },
  {
   "cell_type": "code",
   "execution_count": 57,
   "metadata": {},
   "outputs": [
    {
     "data": {
      "text/plain": [
       "{'GrLivArea': [185, 304],\n",
       " 'LotArea': [53,\n",
       "  171,\n",
       "  271,\n",
       "  411,\n",
       "  523,\n",
       "  529,\n",
       "  661,\n",
       "  828,\n",
       "  848,\n",
       "  1057,\n",
       "  1169,\n",
       "  1184,\n",
       "  1190,\n",
       "  1287],\n",
       " 'EnclosedPorch': [260,\n",
       "  325,\n",
       "  380,\n",
       "  459,\n",
       "  462,\n",
       "  577,\n",
       "  653,\n",
       "  660,\n",
       "  662,\n",
       "  799,\n",
       "  840,\n",
       "  945,\n",
       "  1119,\n",
       "  1185,\n",
       "  1248,\n",
       "  1266,\n",
       "  1445]}"
      ]
     },
     "execution_count": 57,
     "metadata": {},
     "output_type": "execute_result"
    }
   ],
   "source": [
    "cleaned_hp_test = pd.read_csv('data/cleaned_houseprice_test.csv')\n",
    "\n",
    "test_outliers = hpf.outlier_selecter(cleaned_hp,cleaned_hp_test,num_sd = 4,min_unique = 20, drop_zeros = True)\n",
    "test_outliers"
   ]
  },
  {
   "cell_type": "code",
   "execution_count": 58,
   "metadata": {},
   "outputs": [
    {
     "data": {
      "text/html": [
       "<div>\n",
       "<style scoped>\n",
       "    .dataframe tbody tr th:only-of-type {\n",
       "        vertical-align: middle;\n",
       "    }\n",
       "\n",
       "    .dataframe tbody tr th {\n",
       "        vertical-align: top;\n",
       "    }\n",
       "\n",
       "    .dataframe thead th {\n",
       "        text-align: right;\n",
       "    }\n",
       "</style>\n",
       "<table border=\"1\" class=\"dataframe\">\n",
       "  <thead>\n",
       "    <tr style=\"text-align: right;\">\n",
       "      <th></th>\n",
       "      <th>Id</th>\n",
       "      <th>CentralAir</th>\n",
       "      <th>HeatingQC</th>\n",
       "      <th>garage_score</th>\n",
       "      <th>Heating</th>\n",
       "      <th>Electrical</th>\n",
       "      <th>GarageArea</th>\n",
       "      <th>TotalBsmtSF</th>\n",
       "      <th>finishedbsmt</th>\n",
       "      <th>2Types</th>\n",
       "      <th>...</th>\n",
       "      <th>Ext_Plywood</th>\n",
       "      <th>Ext_Stucco</th>\n",
       "      <th>Ext_WdSdng</th>\n",
       "      <th>Ext_WdShing</th>\n",
       "      <th>House_1.5Fin</th>\n",
       "      <th>House_1.5Unf</th>\n",
       "      <th>House_2.5Unf</th>\n",
       "      <th>House_2Story</th>\n",
       "      <th>House_SFoyer</th>\n",
       "      <th>House_SLvl</th>\n",
       "    </tr>\n",
       "  </thead>\n",
       "  <tbody>\n",
       "    <tr>\n",
       "      <th>0</th>\n",
       "      <td>1461</td>\n",
       "      <td>1</td>\n",
       "      <td>3</td>\n",
       "      <td>6</td>\n",
       "      <td>1</td>\n",
       "      <td>5</td>\n",
       "      <td>730.0</td>\n",
       "      <td>882.0</td>\n",
       "      <td>0.693878</td>\n",
       "      <td>0</td>\n",
       "      <td>...</td>\n",
       "      <td>0</td>\n",
       "      <td>0</td>\n",
       "      <td>0</td>\n",
       "      <td>0</td>\n",
       "      <td>0</td>\n",
       "      <td>0</td>\n",
       "      <td>0</td>\n",
       "      <td>0</td>\n",
       "      <td>0</td>\n",
       "      <td>0</td>\n",
       "    </tr>\n",
       "    <tr>\n",
       "      <th>1</th>\n",
       "      <td>1462</td>\n",
       "      <td>1</td>\n",
       "      <td>3</td>\n",
       "      <td>6</td>\n",
       "      <td>1</td>\n",
       "      <td>5</td>\n",
       "      <td>312.0</td>\n",
       "      <td>1329.0</td>\n",
       "      <td>0.694507</td>\n",
       "      <td>0</td>\n",
       "      <td>...</td>\n",
       "      <td>0</td>\n",
       "      <td>0</td>\n",
       "      <td>1</td>\n",
       "      <td>0</td>\n",
       "      <td>0</td>\n",
       "      <td>0</td>\n",
       "      <td>0</td>\n",
       "      <td>0</td>\n",
       "      <td>0</td>\n",
       "      <td>0</td>\n",
       "    </tr>\n",
       "    <tr>\n",
       "      <th>2</th>\n",
       "      <td>1463</td>\n",
       "      <td>1</td>\n",
       "      <td>4</td>\n",
       "      <td>6</td>\n",
       "      <td>1</td>\n",
       "      <td>5</td>\n",
       "      <td>482.0</td>\n",
       "      <td>928.0</td>\n",
       "      <td>0.852371</td>\n",
       "      <td>0</td>\n",
       "      <td>...</td>\n",
       "      <td>0</td>\n",
       "      <td>0</td>\n",
       "      <td>0</td>\n",
       "      <td>0</td>\n",
       "      <td>0</td>\n",
       "      <td>0</td>\n",
       "      <td>0</td>\n",
       "      <td>1</td>\n",
       "      <td>0</td>\n",
       "      <td>0</td>\n",
       "    </tr>\n",
       "    <tr>\n",
       "      <th>3</th>\n",
       "      <td>1464</td>\n",
       "      <td>1</td>\n",
       "      <td>5</td>\n",
       "      <td>6</td>\n",
       "      <td>1</td>\n",
       "      <td>5</td>\n",
       "      <td>470.0</td>\n",
       "      <td>926.0</td>\n",
       "      <td>0.650108</td>\n",
       "      <td>0</td>\n",
       "      <td>...</td>\n",
       "      <td>0</td>\n",
       "      <td>0</td>\n",
       "      <td>0</td>\n",
       "      <td>0</td>\n",
       "      <td>0</td>\n",
       "      <td>0</td>\n",
       "      <td>0</td>\n",
       "      <td>1</td>\n",
       "      <td>0</td>\n",
       "      <td>0</td>\n",
       "    </tr>\n",
       "    <tr>\n",
       "      <th>4</th>\n",
       "      <td>1465</td>\n",
       "      <td>1</td>\n",
       "      <td>5</td>\n",
       "      <td>6</td>\n",
       "      <td>1</td>\n",
       "      <td>5</td>\n",
       "      <td>506.0</td>\n",
       "      <td>1280.0</td>\n",
       "      <td>0.205469</td>\n",
       "      <td>0</td>\n",
       "      <td>...</td>\n",
       "      <td>0</td>\n",
       "      <td>0</td>\n",
       "      <td>0</td>\n",
       "      <td>0</td>\n",
       "      <td>0</td>\n",
       "      <td>0</td>\n",
       "      <td>0</td>\n",
       "      <td>0</td>\n",
       "      <td>0</td>\n",
       "      <td>0</td>\n",
       "    </tr>\n",
       "  </tbody>\n",
       "</table>\n",
       "<p>5 rows × 110 columns</p>\n",
       "</div>"
      ],
      "text/plain": [
       "     Id  CentralAir  HeatingQC  garage_score  Heating  Electrical  GarageArea  \\\n",
       "0  1461           1          3             6        1           5       730.0   \n",
       "1  1462           1          3             6        1           5       312.0   \n",
       "2  1463           1          4             6        1           5       482.0   \n",
       "3  1464           1          5             6        1           5       470.0   \n",
       "4  1465           1          5             6        1           5       506.0   \n",
       "\n",
       "   TotalBsmtSF  finishedbsmt  2Types  ...  Ext_Plywood  Ext_Stucco  \\\n",
       "0        882.0      0.693878       0  ...            0           0   \n",
       "1       1329.0      0.694507       0  ...            0           0   \n",
       "2        928.0      0.852371       0  ...            0           0   \n",
       "3        926.0      0.650108       0  ...            0           0   \n",
       "4       1280.0      0.205469       0  ...            0           0   \n",
       "\n",
       "   Ext_WdSdng  Ext_WdShing  House_1.5Fin  House_1.5Unf  House_2.5Unf  \\\n",
       "0           0            0             0             0             0   \n",
       "1           1            0             0             0             0   \n",
       "2           0            0             0             0             0   \n",
       "3           0            0             0             0             0   \n",
       "4           0            0             0             0             0   \n",
       "\n",
       "   House_2Story  House_SFoyer  House_SLvl  \n",
       "0             0             0           0  \n",
       "1             0             0           0  \n",
       "2             1             0           0  \n",
       "3             1             0           0  \n",
       "4             0             0           0  \n",
       "\n",
       "[5 rows x 110 columns]"
      ]
     },
     "execution_count": 58,
     "metadata": {},
     "output_type": "execute_result"
    }
   ],
   "source": [
    "cleaned_hp_test.head()"
   ]
  },
  {
   "cell_type": "code",
   "execution_count": 59,
   "metadata": {
    "scrolled": true
   },
   "outputs": [
    {
     "name": "stderr",
     "output_type": "stream",
     "text": [
      "C:\\Users\\Micha\\Downloads\\Anaconda\\lib\\site-packages\\pandas\\core\\indexing.py:205: SettingWithCopyWarning: \n",
      "A value is trying to be set on a copy of a slice from a DataFrame\n",
      "\n",
      "See the caveats in the documentation: http://pandas.pydata.org/pandas-docs/stable/user_guide/indexing.html#returning-a-view-versus-a-copy\n",
      "  self._setitem_with_indexer(indexer, value)\n"
     ]
    }
   ],
   "source": [
    "for col, idx in test_outliers.items():\n",
    "    hpf.outlier_imputation(cleaned_hp,cleaned_hp_test,idx, col = col,method = \"random\",decimals = 2)"
   ]
  },
  {
   "cell_type": "code",
   "execution_count": 60,
   "metadata": {},
   "outputs": [],
   "source": [
    "X_test = cleaned_hp_test.drop([\"Id\"],axis = 1)"
   ]
  },
  {
   "cell_type": "code",
   "execution_count": 61,
   "metadata": {},
   "outputs": [
    {
     "name": "stdout",
     "output_type": "stream",
     "text": [
      "GrLivArea\n",
      "1.1276647840362568\n",
      "0.025649359092058246\n",
      "Fireplaces\n",
      "0.8198582704555165\n",
      "0.29412900401924885\n",
      "LotArea\n",
      "3.12599856693982\n",
      "-0.9206716350923922\n",
      "LotShape\n",
      "1.2042262704496145\n",
      "0.7679560899873284\n",
      "LandSlope\n",
      "4.968389880056036\n",
      "4.64800252535215\n",
      "EnclosedPorch\n",
      "4.784481964509475\n",
      "1.8536469435613678\n",
      "Total_PorchDeckSF\n",
      "1.558989626117663\n",
      "-0.9388049100673139\n"
     ]
    }
   ],
   "source": [
    "all_cols = X_test.columns\n",
    "lis_ = []\n",
    "for col in all_cols:\n",
    "    if col != \"TotalBsmtSF\":\n",
    "        if len(X_test[col].unique()) == 2:\n",
    "            continue\n",
    "        else: \n",
    "            lis_.append(col)\n",
    "###############\n",
    "#getting a list of all columns that are greater than 0.75 skew\n",
    "pos_skewed_feats =[]\n",
    "for col in lis_:\n",
    "    if (X_test[col].skew() > 0.75):\n",
    "        pos_skewed_feats.append(col)\n",
    "################\n",
    "#creating a new dataframe, replacing the relevant columns with the transformed \n",
    "Xtest2 = X_test.copy()\n",
    "for col in all_cols:\n",
    "    if col in pos_skewed_feats:\n",
    "        Xtest2[col] = np.log1p(Xtest2[col])\n",
    "#################\n",
    "#cheking for if it improved the skew\n",
    "for col in pos_skewed_feats:\n",
    "    print(col)\n",
    "    print(X_test[col].skew())\n",
    "    print(Xtest2[col].skew())"
   ]
  },
  {
   "cell_type": "code",
   "execution_count": 62,
   "metadata": {},
   "outputs": [
    {
     "data": {
      "text/html": [
       "<div>\n",
       "<style scoped>\n",
       "    .dataframe tbody tr th:only-of-type {\n",
       "        vertical-align: middle;\n",
       "    }\n",
       "\n",
       "    .dataframe tbody tr th {\n",
       "        vertical-align: top;\n",
       "    }\n",
       "\n",
       "    .dataframe thead th {\n",
       "        text-align: right;\n",
       "    }\n",
       "</style>\n",
       "<table border=\"1\" class=\"dataframe\">\n",
       "  <thead>\n",
       "    <tr style=\"text-align: right;\">\n",
       "      <th></th>\n",
       "      <th>Id</th>\n",
       "      <th>SalePrice</th>\n",
       "    </tr>\n",
       "  </thead>\n",
       "  <tbody>\n",
       "    <tr>\n",
       "      <th>0</th>\n",
       "      <td>1461</td>\n",
       "      <td>124501.006289</td>\n",
       "    </tr>\n",
       "    <tr>\n",
       "      <th>1</th>\n",
       "      <td>1462</td>\n",
       "      <td>159296.000192</td>\n",
       "    </tr>\n",
       "    <tr>\n",
       "      <th>2</th>\n",
       "      <td>1463</td>\n",
       "      <td>177838.426270</td>\n",
       "    </tr>\n",
       "    <tr>\n",
       "      <th>3</th>\n",
       "      <td>1464</td>\n",
       "      <td>196819.019208</td>\n",
       "    </tr>\n",
       "    <tr>\n",
       "      <th>4</th>\n",
       "      <td>1465</td>\n",
       "      <td>203142.770219</td>\n",
       "    </tr>\n",
       "  </tbody>\n",
       "</table>\n",
       "</div>"
      ],
      "text/plain": [
       "     Id      SalePrice\n",
       "0  1461  124501.006289\n",
       "1  1462  159296.000192\n",
       "2  1463  177838.426270\n",
       "3  1464  196819.019208\n",
       "4  1465  203142.770219"
      ]
     },
     "execution_count": 62,
     "metadata": {},
     "output_type": "execute_result"
    }
   ],
   "source": [
    "y_log_values = full_model.predict(Xtest2)\n",
    "y = np.exp(y_log_values)\n",
    "results = pd.DataFrame(zip(cleaned_hp_test.Id,y),columns = [\"Id\",\"SalePrice\"])\n",
    "results.head()"
   ]
  },
  {
   "cell_type": "code",
   "execution_count": 17,
   "metadata": {},
   "outputs": [],
   "source": [
    "test_submission = results.to_csv('data/submission.csv',index = False)"
   ]
  }
 ],
 "metadata": {
  "kernelspec": {
   "display_name": "Python 3",
   "language": "python",
   "name": "python3"
  },
  "language_info": {
   "codemirror_mode": {
    "name": "ipython",
    "version": 3
   },
   "file_extension": ".py",
   "mimetype": "text/x-python",
   "name": "python",
   "nbconvert_exporter": "python",
   "pygments_lexer": "ipython3",
   "version": "3.7.3"
  }
 },
 "nbformat": 4,
 "nbformat_minor": 2
}
