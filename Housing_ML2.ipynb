{
 "cells": [
  {
   "cell_type": "code",
   "execution_count": 2,
   "metadata": {},
   "outputs": [],
   "source": [
    "import numpy as np\n",
    "import pandas as pd\n",
    "import matplotlib.pyplot as plt\n",
    "from sklearn import linear_model\n",
    "from sklearn.model_selection import train_test_split\n",
    "from sklearn.model_selection import cross_val_score, cross_val_predict\n",
    "from sklearn import metrics"
   ]
  },
  {
   "cell_type": "code",
   "execution_count": 3,
   "metadata": {},
   "outputs": [
    {
     "data": {
      "text/html": [
       "<div>\n",
       "<style scoped>\n",
       "    .dataframe tbody tr th:only-of-type {\n",
       "        vertical-align: middle;\n",
       "    }\n",
       "\n",
       "    .dataframe tbody tr th {\n",
       "        vertical-align: top;\n",
       "    }\n",
       "\n",
       "    .dataframe thead th {\n",
       "        text-align: right;\n",
       "    }\n",
       "</style>\n",
       "<table border=\"1\" class=\"dataframe\">\n",
       "  <thead>\n",
       "    <tr style=\"text-align: right;\">\n",
       "      <th></th>\n",
       "      <th>CentralAir</th>\n",
       "      <th>HeatingQC</th>\n",
       "      <th>garage_score</th>\n",
       "      <th>Heating</th>\n",
       "      <th>Electrical</th>\n",
       "      <th>GarageArea</th>\n",
       "      <th>TotalBsmtSF</th>\n",
       "      <th>finishedbsmt</th>\n",
       "      <th>2Types</th>\n",
       "      <th>Basment</th>\n",
       "      <th>...</th>\n",
       "      <th>Ext_Stucco</th>\n",
       "      <th>Ext_WdSdng</th>\n",
       "      <th>Ext_WdShing</th>\n",
       "      <th>House_1.5Fin</th>\n",
       "      <th>House_1.5Unf</th>\n",
       "      <th>House_2.5Fin</th>\n",
       "      <th>House_2.5Unf</th>\n",
       "      <th>House_2Story</th>\n",
       "      <th>House_SFoyer</th>\n",
       "      <th>House_SLvl</th>\n",
       "    </tr>\n",
       "  </thead>\n",
       "  <tbody>\n",
       "    <tr>\n",
       "      <th>0</th>\n",
       "      <td>1</td>\n",
       "      <td>5</td>\n",
       "      <td>6</td>\n",
       "      <td>1</td>\n",
       "      <td>5</td>\n",
       "      <td>548</td>\n",
       "      <td>856</td>\n",
       "      <td>0.824766</td>\n",
       "      <td>0</td>\n",
       "      <td>0</td>\n",
       "      <td>...</td>\n",
       "      <td>0</td>\n",
       "      <td>0</td>\n",
       "      <td>0</td>\n",
       "      <td>0</td>\n",
       "      <td>0</td>\n",
       "      <td>0</td>\n",
       "      <td>0</td>\n",
       "      <td>1</td>\n",
       "      <td>0</td>\n",
       "      <td>0</td>\n",
       "    </tr>\n",
       "    <tr>\n",
       "      <th>1</th>\n",
       "      <td>1</td>\n",
       "      <td>5</td>\n",
       "      <td>6</td>\n",
       "      <td>1</td>\n",
       "      <td>5</td>\n",
       "      <td>460</td>\n",
       "      <td>1262</td>\n",
       "      <td>0.774960</td>\n",
       "      <td>0</td>\n",
       "      <td>0</td>\n",
       "      <td>...</td>\n",
       "      <td>0</td>\n",
       "      <td>0</td>\n",
       "      <td>0</td>\n",
       "      <td>0</td>\n",
       "      <td>0</td>\n",
       "      <td>0</td>\n",
       "      <td>0</td>\n",
       "      <td>0</td>\n",
       "      <td>0</td>\n",
       "      <td>0</td>\n",
       "    </tr>\n",
       "    <tr>\n",
       "      <th>2</th>\n",
       "      <td>1</td>\n",
       "      <td>5</td>\n",
       "      <td>6</td>\n",
       "      <td>1</td>\n",
       "      <td>5</td>\n",
       "      <td>608</td>\n",
       "      <td>920</td>\n",
       "      <td>0.528261</td>\n",
       "      <td>0</td>\n",
       "      <td>0</td>\n",
       "      <td>...</td>\n",
       "      <td>0</td>\n",
       "      <td>0</td>\n",
       "      <td>0</td>\n",
       "      <td>0</td>\n",
       "      <td>0</td>\n",
       "      <td>0</td>\n",
       "      <td>0</td>\n",
       "      <td>1</td>\n",
       "      <td>0</td>\n",
       "      <td>0</td>\n",
       "    </tr>\n",
       "    <tr>\n",
       "      <th>3</th>\n",
       "      <td>1</td>\n",
       "      <td>4</td>\n",
       "      <td>6</td>\n",
       "      <td>1</td>\n",
       "      <td>5</td>\n",
       "      <td>642</td>\n",
       "      <td>756</td>\n",
       "      <td>0.285714</td>\n",
       "      <td>0</td>\n",
       "      <td>0</td>\n",
       "      <td>...</td>\n",
       "      <td>0</td>\n",
       "      <td>1</td>\n",
       "      <td>0</td>\n",
       "      <td>0</td>\n",
       "      <td>0</td>\n",
       "      <td>0</td>\n",
       "      <td>0</td>\n",
       "      <td>1</td>\n",
       "      <td>0</td>\n",
       "      <td>0</td>\n",
       "    </tr>\n",
       "    <tr>\n",
       "      <th>4</th>\n",
       "      <td>1</td>\n",
       "      <td>5</td>\n",
       "      <td>6</td>\n",
       "      <td>1</td>\n",
       "      <td>5</td>\n",
       "      <td>836</td>\n",
       "      <td>1145</td>\n",
       "      <td>0.572052</td>\n",
       "      <td>0</td>\n",
       "      <td>0</td>\n",
       "      <td>...</td>\n",
       "      <td>0</td>\n",
       "      <td>0</td>\n",
       "      <td>0</td>\n",
       "      <td>0</td>\n",
       "      <td>0</td>\n",
       "      <td>0</td>\n",
       "      <td>0</td>\n",
       "      <td>1</td>\n",
       "      <td>0</td>\n",
       "      <td>0</td>\n",
       "    </tr>\n",
       "  </tbody>\n",
       "</table>\n",
       "<p>5 rows × 112 columns</p>\n",
       "</div>"
      ],
      "text/plain": [
       "   CentralAir  HeatingQC  garage_score  Heating  Electrical  GarageArea  \\\n",
       "0           1          5             6        1           5         548   \n",
       "1           1          5             6        1           5         460   \n",
       "2           1          5             6        1           5         608   \n",
       "3           1          4             6        1           5         642   \n",
       "4           1          5             6        1           5         836   \n",
       "\n",
       "   TotalBsmtSF  finishedbsmt  2Types  Basment     ...      Ext_Stucco  \\\n",
       "0          856      0.824766       0        0     ...               0   \n",
       "1         1262      0.774960       0        0     ...               0   \n",
       "2          920      0.528261       0        0     ...               0   \n",
       "3          756      0.285714       0        0     ...               0   \n",
       "4         1145      0.572052       0        0     ...               0   \n",
       "\n",
       "   Ext_WdSdng  Ext_WdShing  House_1.5Fin  House_1.5Unf  House_2.5Fin  \\\n",
       "0           0            0             0             0             0   \n",
       "1           0            0             0             0             0   \n",
       "2           0            0             0             0             0   \n",
       "3           1            0             0             0             0   \n",
       "4           0            0             0             0             0   \n",
       "\n",
       "   House_2.5Unf  House_2Story  House_SFoyer  House_SLvl  \n",
       "0             0             1             0           0  \n",
       "1             0             0             0           0  \n",
       "2             0             1             0           0  \n",
       "3             0             1             0           0  \n",
       "4             0             1             0           0  \n",
       "\n",
       "[5 rows x 112 columns]"
      ]
     },
     "execution_count": 3,
     "metadata": {},
     "output_type": "execute_result"
    }
   ],
   "source": [
    "HousePrices = pd.read_csv('data/train.csv')\n",
    "cleaned_hp = pd.read_csv('data/cleaned_houseprice.csv')\n",
    "\n",
    "y = np.log(HousePrices['SalePrice'])\n",
    "X = cleaned_hp.drop('Id',axis = 1)\n",
    "\n",
    "X.head()"
   ]
  },
  {
   "cell_type": "markdown",
   "metadata": {},
   "source": [
    "### Basic MLR"
   ]
  },
  {
   "cell_type": "code",
   "execution_count": 4,
   "metadata": {},
   "outputs": [],
   "source": [
    "ols = linear_model.LinearRegression()"
   ]
  },
  {
   "cell_type": "code",
   "execution_count": 5,
   "metadata": {},
   "outputs": [
    {
     "name": "stdout",
     "output_type": "stream",
     "text": [
      "0.9025067932099374\n",
      "0.9020364716608223\n"
     ]
    }
   ],
   "source": [
    "#TrainTestSplit:\n",
    "X_train, X_test, y_train, y_test = train_test_split(X, y, test_size=0.3, random_state=42)\n",
    "ols.fit(X_train, y_train)\n",
    "print(ols.score(X_train, y_train))\n",
    "print(ols.score(X_test, y_test))"
   ]
  },
  {
   "cell_type": "markdown",
   "metadata": {},
   "source": [
    "### Basic MLR + log transform features that are skewed\n",
    "- proof that normalizing improves score (R^2) "
   ]
  },
  {
   "cell_type": "code",
   "execution_count": 6,
   "metadata": {},
   "outputs": [],
   "source": [
    "all_cols = X.columns\n",
    "lis_ = []\n",
    "\n",
    "for col in all_cols:\n",
    "    if len(X[col].unique()) == 2:\n",
    "        continue\n",
    "    else: \n",
    "        lis_.append(col)"
   ]
  },
  {
   "cell_type": "code",
   "execution_count": 7,
   "metadata": {},
   "outputs": [
    {
     "name": "stdout",
     "output_type": "stream",
     "text": [
      "['TotalBsmtSF', 'GrLivArea', 'LotArea', 'LotShape', 'LandSlope', 'EnclosedPorch', 'Total_PorchDeckSF']\n"
     ]
    }
   ],
   "source": [
    "pos_skewed_feats =[]\n",
    "neg_skewed_feats =[]\n",
    "\n",
    "for col in lis_:\n",
    "    if (X[col].skew() > 0.75):\n",
    "        pos_skewed_feats.append(col)\n",
    "#     if (X[col].skew() < -0.75):\n",
    "#         neg_skewed_feats.append(col)\n",
    "\n",
    "print(pos_skewed_feats)"
   ]
  },
  {
   "cell_type": "code",
   "execution_count": 8,
   "metadata": {},
   "outputs": [],
   "source": [
    "X2 = X.copy()\n",
    "\n",
    "for col in all_cols:\n",
    "    if col in pos_skewed_feats:\n",
    "        X2[col] = np.log1p(X2[col])\n",
    "#     elif col in neg_skewed_feats: \n",
    "#         X2[col] = np.sqrt(X2[col])\n",
    "#     else:\n",
    "#         continue "
   ]
  },
  {
   "cell_type": "code",
   "execution_count": 9,
   "metadata": {},
   "outputs": [
    {
     "name": "stdout",
     "output_type": "stream",
     "text": [
      "TotalBsmtSF\n",
      "1.5242545490627664\n",
      "-5.1546699835179135\n",
      "GrLivArea\n",
      "1.3665603560164552\n",
      "-0.006140253486287281\n",
      "LotArea\n",
      "12.207687851233496\n",
      "-0.13740448122837784\n",
      "LotShape\n",
      "1.309985656555955\n",
      "0.7831035648282987\n",
      "LandSlope\n",
      "4.813682424489448\n",
      "4.297167061742489\n",
      "EnclosedPorch\n",
      "3.08987190371177\n",
      "2.1122749483873156\n",
      "Total_PorchDeckSF\n",
      "1.225027362577339\n",
      "-0.9021319607191441\n"
     ]
    }
   ],
   "source": [
    "for col in pos_skewed_feats:\n",
    "    print(col)\n",
    "    print(X[col].skew())\n",
    "    print(X2[col].skew())"
   ]
  },
  {
   "cell_type": "code",
   "execution_count": 10,
   "metadata": {},
   "outputs": [
    {
     "name": "stdout",
     "output_type": "stream",
     "text": [
      "0.9129721165287057\n",
      "0.9145201447514633\n"
     ]
    }
   ],
   "source": [
    "#TrainTestSplit:\n",
    "X2_train, X2_test, y2_train, y2_test = train_test_split(X2, y, test_size=0.3, random_state=42)\n",
    "ols.fit(X2_train, y_train)\n",
    "print(ols.score(X2_train, y2_train))\n",
    "print(ols.score(X2_test, y2_test))"
   ]
  },
  {
   "cell_type": "markdown",
   "metadata": {},
   "source": [
    "### Elastic Net "
   ]
  },
  {
   "cell_type": "code",
   "execution_count": 11,
   "metadata": {},
   "outputs": [],
   "source": [
    "from sklearn.linear_model import ElasticNetCV, ElasticNet"
   ]
  },
  {
   "cell_type": "code",
   "execution_count": 78,
   "metadata": {},
   "outputs": [
    {
     "name": "stdout",
     "output_type": "stream",
     "text": [
      "0.00013029036686063448\n",
      "0.9\n",
      "41\n"
     ]
    }
   ],
   "source": [
    "en_model = ElasticNetCV(l1_ratio=[.1, .5, .7, .9, .95, .99, 1], eps=1e-3, n_alphas=100, fit_intercept=True, \n",
    "                        normalize=True, precompute='auto', max_iter=2000, tol=0.0001, cv=6, \n",
    "                        copy_X=True, verbose=0, n_jobs=-1, positive=False, random_state=1)\n",
    "\n",
    "en_model.fit(X2_train, y_train)\n",
    "print(en_model.alpha_)\n",
    "print(en_model.l1_ratio_)\n",
    "print(en_model.n_iter_)"
   ]
  },
  {
   "cell_type": "code",
   "execution_count": 79,
   "metadata": {},
   "outputs": [
    {
     "name": "stdout",
     "output_type": "stream",
     "text": [
      "0.8882697894981805\n",
      "0.9172204578950744\n",
      "0.12165863369917053\n",
      "0.11850414278852817\n"
     ]
    }
   ],
   "source": [
    "y_train_pred = en_model.predict(X2_train)\n",
    "y_pred = en_model.predict(X2_test)\n",
    "\n",
    "print(metrics.r2_score(y_train_pred, y_train))\n",
    "print(metrics.r2_score(y_test, y_pred))\n",
    "\n",
    "print(np.sqrt(metrics.mean_squared_error(y_train_pred, y_train)))\n",
    "print(np.sqrt(metrics.mean_squared_error(y_pred, y_test)))"
   ]
  },
  {
   "cell_type": "markdown",
   "metadata": {},
   "source": [
    "- Looks like doing an Elastic Net on log transformed(X2) performs better than the previous models\n",
    "- Feature Importance from ElasticNet"
   ]
  },
  {
   "cell_type": "code",
   "execution_count": 14,
   "metadata": {},
   "outputs": [
    {
     "data": {
      "text/plain": [
       "<matplotlib.axes._subplots.AxesSubplot at 0x1a2bb29550>"
      ]
     },
     "execution_count": 14,
     "metadata": {},
     "output_type": "execute_result"
    },
    {
     "data": {
      "image/png": "[encoded data removed]",
      "text/plain": [
       "<Figure size 864x360 with 1 Axes>"
      ]
     },
     "metadata": {
      "needs_background": "light"
     },
     "output_type": "display_data"
    }
   ],
   "source": [
    "feature_importance = pd.Series(index=X2_train.columns, data=np.abs(en_model.coef_))\n",
    "feature_importance.sort_values(ascending=True).tail(50).plot(kind='bar', figsize=(12,5))\n"
   ]
  },
  {
   "cell_type": "markdown",
   "metadata": {},
   "source": [
    "### Against Vincent adj Sales Price"
   ]
  },
  {
   "cell_type": "code",
   "execution_count": 96,
   "metadata": {},
   "outputs": [],
   "source": [
    "HousePrices_adj = pd.read_csv('SalePriceAdj.csv')\n",
    "\n",
    "y_adj = HousePrices_adj.drop(['Unnamed: 0','Id'], axis=1)\n",
    "y_adj =  np.log(HousePrices_adj['SalePrice_Adj'])"
   ]
  },
  {
   "cell_type": "code",
   "execution_count": 97,
   "metadata": {},
   "outputs": [],
   "source": [
    "Xadj_train, Xadj_test, yadj_train, yadj_test = train_test_split(X2, y_adj, test_size=0.3, random_state=42)\n"
   ]
  },
  {
   "cell_type": "code",
   "execution_count": 98,
   "metadata": {},
   "outputs": [
    {
     "name": "stdout",
     "output_type": "stream",
     "text": [
      "0.00013895529405860073\n",
      "0.9\n",
      "42\n"
     ]
    }
   ],
   "source": [
    "en_model_adj = ElasticNetCV(l1_ratio=[.1, .5, .7, .9, .95, .99, 1], eps=1e-3, n_alphas=100, fit_intercept=True, \n",
    "                        normalize=True, precompute='auto', max_iter=2000, tol=0.0001, cv=6, \n",
    "                        copy_X=True, verbose=0, n_jobs=-1, positive=False, random_state=1)\n",
    "\n",
    "en_model_adj.fit(Xadj_train, yadj_train)\n",
    "print(en_model_adj.alpha_)\n",
    "print(en_model_adj.l1_ratio_)\n",
    "print(en_model_adj.n_iter_)"
   ]
  },
  {
   "cell_type": "code",
   "execution_count": 99,
   "metadata": {},
   "outputs": [
    {
     "name": "stdout",
     "output_type": "stream",
     "text": [
      "0.8845275755585265\n",
      "0.9139938641918418\n",
      "0.12398173681179189\n",
      "0.1212687396554152\n"
     ]
    }
   ],
   "source": [
    "yadj_train_pred = en_model_adj.predict(Xadj_train)\n",
    "yadj_pred = en_model_adj.predict(Xadj_test)\n",
    "\n",
    "print(metrics.r2_score(yadj_train_pred, yadj_train))\n",
    "print(metrics.r2_score(yadj_test, yadj_pred))\n",
    "\n",
    "print(np.sqrt(metrics.mean_squared_error(yadj_train_pred, yadj_train)))\n",
    "print(np.sqrt(metrics.mean_squared_error(yadj_pred, yadj_test)))"
   ]
  },
  {
   "cell_type": "markdown",
   "metadata": {},
   "source": []
  },
  {
   "cell_type": "code",
   "execution_count": null,
   "metadata": {},
   "outputs": [],
   "source": []
  },
  {
   "cell_type": "code",
   "execution_count": null,
   "metadata": {},
   "outputs": [],
   "source": []
  },
  {
   "cell_type": "code",
   "execution_count": null,
   "metadata": {},
   "outputs": [],
   "source": []
  },
  {
   "cell_type": "markdown",
   "metadata": {},
   "source": [
    "### Try limiting the features to anything above 0.05"
   ]
  },
  {
   "cell_type": "code",
   "execution_count": 22,
   "metadata": {
    "scrolled": true
   },
   "outputs": [],
   "source": [
    "feat_importance = feature_importance.sort_values(ascending=True).tail(80)\n",
    "\n",
    "top_feat = feat_importance[feat_importance > 0.01]\n",
    "top_feat\n",
    "\n",
    "top_feat_list = []\n",
    "for colname in top_feat.index:\n",
    "    top_feat_list.append(colname)\n"
   ]
  },
  {
   "cell_type": "code",
   "execution_count": 83,
   "metadata": {},
   "outputs": [
    {
     "data": {
      "text/plain": [
       "68"
      ]
     },
     "execution_count": 83,
     "metadata": {},
     "output_type": "execute_result"
    }
   ],
   "source": [
    "len(feat_importance[feat_importance > 0])"
   ]
  },
  {
   "cell_type": "code",
   "execution_count": 23,
   "metadata": {},
   "outputs": [
    {
     "name": "stdout",
     "output_type": "stream",
     "text": [
      "1.723598070459207e-05\n",
      "0.5\n",
      "27\n"
     ]
    }
   ],
   "source": [
    "X21 = X2[top_feat_list]\n",
    "\n",
    "X_train21, X_test21, y_train21, y_test21  = train_test_split(X21, y, test_size = 0.2, random_state = 0)\n",
    "en_model_tf = ElasticNetCV(l1_ratio=[.1, .5, .7, .9, .95, .99, 1], eps=1e-3, n_alphas=100, fit_intercept=True, \n",
    "                        normalize=True, precompute='auto', max_iter=2000, tol=0.0001, cv=6, \n",
    "                        copy_X=True, verbose=0, n_jobs=-1, positive=False, random_state=0)\n",
    "\n",
    "en_model_tf.fit(X_train21, y_train21)\n",
    "print(en_model_tf.alpha_)\n",
    "print(en_model_tf.l1_ratio_)\n",
    "print(en_model_tf.n_iter_)"
   ]
  },
  {
   "cell_type": "code",
   "execution_count": 24,
   "metadata": {},
   "outputs": [
    {
     "name": "stdout",
     "output_type": "stream",
     "text": [
      "0.9095118989400626\n",
      "0.8363342444287193\n",
      "0.11515581181971075\n",
      "0.15741337146387252\n"
     ]
    }
   ],
   "source": [
    "y_train_pred21 = en_model_tf.predict(X_train21)\n",
    "y_pred21 = en_model_tf.predict(X_test21)\n",
    "\n",
    "print(metrics.r2_score(y_train_pred21, y_train21))\n",
    "print(metrics.r2_score(y_test21, y_pred21))\n",
    "\n",
    "print(np.sqrt(metrics.mean_squared_error(y_train_pred21, y_train21)))\n",
    "print(np.sqrt(metrics.mean_squared_error(y_pred21, y_test21)))"
   ]
  },
  {
   "cell_type": "markdown",
   "metadata": {},
   "source": [
    "### Use elastic net feature output to perform ridge regression at different cut off points"
   ]
  },
  {
   "cell_type": "code",
   "execution_count": 70,
   "metadata": {},
   "outputs": [],
   "source": [
    "from sklearn.model_selection import GridSearchCV\n",
    "from sklearn.linear_model import Ridge"
   ]
  },
  {
   "cell_type": "code",
   "execution_count": 76,
   "metadata": {},
   "outputs": [
    {
     "name": "stdout",
     "output_type": "stream",
     "text": [
      "Cutoff: 0.01\n",
      "Best Alpha: {'alpha': 5}\n",
      "Score R^2: 0.8961397487865038\n",
      "RMSE: 0.12874584269351722\n",
      "Cutoff: 0.05\n",
      "Best Alpha: {'alpha': 1}\n",
      "Score R^2: 0.7444041839613676\n",
      "RMSE: 0.20049700848312\n",
      "Cutoff: 0.1\n",
      "Best Alpha: {'alpha': 1}\n",
      "Score R^2: 0.6217798856366141\n",
      "RMSE: 0.24413718578798746\n",
      "Cutoff: 0.15\n",
      "Best Alpha: {'alpha': 1}\n",
      "Score R^2: 0.5565744025263872\n",
      "RMSE: 0.2642505020006516\n",
      "Cutoff: 0.2\n",
      "Best Alpha: {'alpha': 1}\n",
      "Score R^2: 0.5431162362510931\n",
      "RMSE: 0.26842520765154837\n",
      "Cutoff: 0.25\n",
      "Best Alpha: {'alpha': 5}\n",
      "Score R^2: 0.5242771144040747\n",
      "RMSE: 0.27383562843054743\n"
     ]
    }
   ],
   "source": [
    "cutoffs = [0.01, 0.05, 0.1, 0.15, 0.2, 0.25]\n",
    "ridge = Ridge()\n",
    "parameters = {'alpha':[1e-15, 1e-10, 1e-8, 1e-4, 1e-3, 1e-2, 1, 5, 10, 20]}\n",
    "ridge.set_params(normalize=False)\n",
    "ridge_regressor = GridSearchCV(ridge, parameters, cv=10)\n",
    "\n",
    "\n",
    "for cutoff in cutoffs: \n",
    "    tf = feat_importance[feat_importance > cutoff]\n",
    "    new_df = X2[list(tf.index)]\n",
    "    \n",
    "    ridge_regressor.fit(new_df, y)\n",
    "    print(f\"Cutoff: {cutoff}\")\n",
    "    print(f\"Best Alpha: {ridge_regressor.best_params_}\")\n",
    "    print(f\"Score R^2: {ridge_regressor.best_score_}\")\n",
    "    \n",
    "    predictions_new = cross_val_predict(ridge, new_df, y, cv=10)\n",
    "    RMSE_new = np.sqrt(metrics.mean_squared_error(y, predictions_new))\n",
    "    \n",
    "    print(f\"RMSE: {RMSE_new}\")\n",
    "    "
   ]
  },
  {
   "cell_type": "code",
   "execution_count": null,
   "metadata": {},
   "outputs": [],
   "source": []
  },
  {
   "cell_type": "code",
   "execution_count": null,
   "metadata": {},
   "outputs": [],
   "source": []
  },
  {
   "cell_type": "code",
   "execution_count": null,
   "metadata": {},
   "outputs": [],
   "source": []
  },
  {
   "cell_type": "markdown",
   "metadata": {},
   "source": [
    "### Elastic Net - Dummify Month, Year on X2"
   ]
  },
  {
   "cell_type": "code",
   "execution_count": 38,
   "metadata": {},
   "outputs": [
    {
     "data": {
      "text/plain": [
       "2009    338\n",
       "2007    329\n",
       "2006    314\n",
       "2008    304\n",
       "2010    175\n",
       "Name: YrSold, dtype: int64"
      ]
     },
     "execution_count": 38,
     "metadata": {},
     "output_type": "execute_result"
    }
   ],
   "source": [
    "X2['YrSold'].value_counts()"
   ]
  },
  {
   "cell_type": "code",
   "execution_count": 52,
   "metadata": {},
   "outputs": [],
   "source": [
    "#Dummifying Month \n",
    "# x = pd.get_dummies(sunny_cols['Exterior1st']).drop(['VinylSd'], axis='columns')\n",
    "# sunny_cols1 = sunny_cols.merge(x, left_index=True, right_index=True)\n",
    "\n",
    "mo_dummies = pd.get_dummies(X2['MoSold']).drop([6],axis='columns')\n",
    "yr_dummies = pd.get_dummies(X2['YrSold']).drop([2006],axis='columns')\n",
    "\n",
    "X3 = X2.drop(['MoSold', 'YrSold'], axis='columns')\n",
    "X4 = X3.merge(mo_dummies, left_index=True, right_index=True)\n",
    "X5 = X4.merge(yr_dummies, left_index=True, right_index=True)"
   ]
  },
  {
   "cell_type": "code",
   "execution_count": 53,
   "metadata": {},
   "outputs": [],
   "source": [
    "X5_train, X5_test, y5_train, y5_test = train_test_split(X5, y, test_size=0.3, random_state=42)\n"
   ]
  },
  {
   "cell_type": "code",
   "execution_count": 54,
   "metadata": {},
   "outputs": [
    {
     "name": "stdout",
     "output_type": "stream",
     "text": [
      "0.00013029036686063448\n",
      "0.9\n",
      "42\n"
     ]
    }
   ],
   "source": [
    "en_model_dummies = ElasticNetCV(l1_ratio=[.1, .5, .7, .9, .95, .99, 1], eps=1e-3, n_alphas=100, fit_intercept=True, \n",
    "                        normalize=True, precompute='auto', max_iter=2000, tol=0.0001, cv=6, \n",
    "                        copy_X=True, verbose=0, n_jobs=-1, positive=False, random_state=0)\n",
    "\n",
    "en_model_dummies.fit(X5_train, y5_train)\n",
    "print(en_model_dummies.alpha_)\n",
    "print(en_model_dummies.l1_ratio_)\n",
    "print(en_model_dummies.n_iter_)"
   ]
  },
  {
   "cell_type": "code",
   "execution_count": 55,
   "metadata": {},
   "outputs": [
    {
     "name": "stdout",
     "output_type": "stream",
     "text": [
      "0.8885874203621961\n",
      "0.9170556905761649\n",
      "0.12149171069602724\n",
      "0.11862202157193738\n"
     ]
    }
   ],
   "source": [
    "y_train_pred_dummies = en_model_dummies.predict(X5_train)\n",
    "y_pred_dummies = en_model_dummies.predict(X5_test)\n",
    "\n",
    "print(metrics.r2_score(y_train_pred_dummies, y5_train))\n",
    "print(metrics.r2_score(y5_test, y_pred_dummies))\n",
    "\n",
    "print(np.sqrt(metrics.mean_squared_error(y_train_pred_dummies, y5_train)))\n",
    "print(np.sqrt(metrics.mean_squared_error(y5_test, y_pred_dummies)))"
   ]
  },
  {
   "cell_type": "code",
   "execution_count": null,
   "metadata": {},
   "outputs": [],
   "source": []
  },
  {
   "cell_type": "code",
   "execution_count": null,
   "metadata": {},
   "outputs": [],
   "source": []
  },
  {
   "cell_type": "code",
   "execution_count": null,
   "metadata": {},
   "outputs": [],
   "source": []
  },
  {
   "cell_type": "code",
   "execution_count": null,
   "metadata": {},
   "outputs": [],
   "source": []
  },
  {
   "cell_type": "code",
   "execution_count": null,
   "metadata": {},
   "outputs": [],
   "source": []
  },
  {
   "cell_type": "code",
   "execution_count": null,
   "metadata": {},
   "outputs": [],
   "source": []
  },
  {
   "cell_type": "code",
   "execution_count": null,
   "metadata": {},
   "outputs": [],
   "source": []
  },
  {
   "cell_type": "code",
   "execution_count": null,
   "metadata": {},
   "outputs": [],
   "source": []
  },
  {
   "cell_type": "code",
   "execution_count": null,
   "metadata": {},
   "outputs": [],
   "source": []
  },
  {
   "cell_type": "markdown",
   "metadata": {},
   "source": [
    "### XGBoost"
   ]
  },
  {
   "cell_type": "code",
   "execution_count": 65,
   "metadata": {},
   "outputs": [],
   "source": [
    "from xgboost import XGBRegressor, plot_importance "
   ]
  },
  {
   "cell_type": "code",
   "execution_count": 66,
   "metadata": {},
   "outputs": [
    {
     "name": "stderr",
     "output_type": "stream",
     "text": [
      "/Users/YunseonLee/opt/anaconda3/lib/python3.7/site-packages/xgboost/core.py:587: FutureWarning: Series.base is deprecated and will be removed in a future version\n",
      "  if getattr(data, 'base', None) is not None and \\\n"
     ]
    },
    {
     "name": "stdout",
     "output_type": "stream",
     "text": [
      "[15:33:16] WARNING: src/objective/regression_obj.cu:152: reg:linear is now deprecated in favor of reg:squarederror.\n",
      "Train r2 score:  0.9447330410617817\n",
      "Test r2 score:  0.8922033556382378\n",
      "Train RMSE: 0.0885\n",
      "Test RMSE: 0.1352\n"
     ]
    }
   ],
   "source": [
    "#Not better than Elastic Net?? \n",
    "xgb_model1 = XGBRegressor()\n",
    "xgb_model1.fit(X2_train, y_train, verbose=False)\n",
    "y_train_pred1 = xgb_model1.predict(X2_train)\n",
    "y_pred1 = xgb_model1.predict(X2_test)\n",
    "\n",
    "print('Train r2 score: ', metrics.r2_score(y_train_pred1, y_train))\n",
    "print('Test r2 score: ', metrics.r2_score(y_test, y_pred1))\n",
    "train_mse1 = metrics.mean_squared_error(y_train_pred1, y_train)\n",
    "test_mse1 = metrics.mean_squared_error(y_pred1, y_test)\n",
    "train_rmse1 = np.sqrt(train_mse1)\n",
    "test_rmse1 = np.sqrt(test_mse1)\n",
    "print('Train RMSE: %.4f' % train_rmse1)\n",
    "print('Test RMSE: %.4f' % test_rmse1)"
   ]
  },
  {
   "cell_type": "code",
   "execution_count": 67,
   "metadata": {},
   "outputs": [
    {
     "name": "stderr",
     "output_type": "stream",
     "text": [
      "/Users/YunseonLee/opt/anaconda3/lib/python3.7/site-packages/xgboost/core.py:587: FutureWarning: Series.base is deprecated and will be removed in a future version\n",
      "  if getattr(data, 'base', None) is not None and \\\n"
     ]
    },
    {
     "name": "stdout",
     "output_type": "stream",
     "text": [
      "[15:33:18] WARNING: src/objective/regression_obj.cu:152: reg:linear is now deprecated in favor of reg:squarederror.\n",
      "Train r2 score:  0.9470911333381173\n",
      "Test r2 score:  0.8980682656434935\n",
      "Train RMSE: 0.0865\n",
      "Test RMSE: 0.1315\n"
     ]
    }
   ],
   "source": [
    "#Adding a learning rate\n",
    "\n",
    "xgb_model3 = XGBRegressor(n_estimators=1000, learning_rate=0.05)\n",
    "xgb_model3.fit(X_train, y_train, early_stopping_rounds=5, \n",
    "             eval_set=[(X_test, y_test)], verbose=False)\n",
    "y_train_pred3 = xgb_model3.predict(X_train)\n",
    "y_pred3 = xgb_model3.predict(X_test)\n",
    "\n",
    "print('Train r2 score: ', metrics.r2_score(y_train_pred3, y_train))\n",
    "print('Test r2 score: ', metrics.r2_score(y_test, y_pred3))\n",
    "train_mse3 = metrics.mean_squared_error(y_train_pred3, y_train)\n",
    "test_mse3 = metrics.mean_squared_error(y_pred3, y_test)\n",
    "train_rmse3 = np.sqrt(train_mse3)\n",
    "test_rmse3 = np.sqrt(test_mse3)\n",
    "print('Train RMSE: %.4f' % train_rmse3)\n",
    "print('Test RMSE: %.4f' % test_rmse3)\n"
   ]
  },
  {
   "cell_type": "code",
   "execution_count": null,
   "metadata": {},
   "outputs": [],
   "source": []
  }
 ],
 "metadata": {
  "kernelspec": {
   "display_name": "Python 3",
   "language": "python",
   "name": "python3"
  },
  "language_info": {
   "codemirror_mode": {
    "name": "ipython",
    "version": 3
   },
   "file_extension": ".py",
   "mimetype": "text/x-python",
   "name": "python",
   "nbconvert_exporter": "python",
   "pygments_lexer": "ipython3",
   "version": "3.7.4"
  }
 },
 "nbformat": 4,
 "nbformat_minor": 2
}
